{
 "cells": [
  {
   "cell_type": "markdown",
   "metadata": {},
   "source": [
    "Given a string ‘s’ and a number ‘n’, write a function that returns a string with each character in s replaced with another character that is ‘n’ positions down the alphabet. \n",
    "If n is 1, A is replaced with B, B is replaced with C and so on. \n",
    "If n is 2, A is replaced with C, B is replaced with D and so on.  \n",
    "\n",
    "input: abcd, 1\n",
    "output: bcde\n",
    "input: abcd, 2\n",
    "output: cdef"
   ]
  },
  {
   "cell_type": "code",
   "execution_count": 48,
   "metadata": {},
   "outputs": [],
   "source": [
    "def snts(s,n):\n",
    "    s1 = \"\"\n",
    "    for i in range(len(s)):\n",
    "        v = ord(s[i])\n",
    "        d = n\n",
    "        if v + n > 122:\n",
    "            n = n - (122 - v)\n",
    "            n = n% 26\n",
    "            s1 = s1 + chr(96 + n)\n",
    "        else:\n",
    "            s1 = s1 + chr(v + n)\n",
    "        n = d\n",
    "    print(\"The return string is {} for input string {} and number {}\".format(s1,s,n))"
   ]
  },
  {
   "cell_type": "code",
   "execution_count": 47,
   "metadata": {},
   "outputs": [
    {
     "name": "stdout",
     "output_type": "stream",
     "text": [
      "The return string is [] for input string bcde and number abcd\n"
     ]
    }
   ],
   "source": [
    "snts(\"abcd\", 1)"
   ]
  },
  {
   "cell_type": "code",
   "execution_count": 45,
   "metadata": {},
   "outputs": [
    {
     "name": "stdout",
     "output_type": "stream",
     "text": [
      "The return string is cdef for input string abcd and number 2\n"
     ]
    }
   ],
   "source": [
    "snts(\"abcd\", 2)"
   ]
  },
  {
   "cell_type": "code",
   "execution_count": 88,
   "metadata": {},
   "outputs": [],
   "source": [
    "x = \"ABCDEFGHIJKLMNOPQRSTUVWXYZ\"\n",
    "y = \"abcdefghijklmnopqrstuvwxyz\"\n",
    "\n",
    "def ascii_lower(p):\n",
    "    l = []\n",
    "    for i in p:\n",
    "        s = ord(i)\n",
    "        d = {i:s}\n",
    "        l.append(d)\n",
    "    print(l)"
   ]
  },
  {
   "cell_type": "code",
   "execution_count": 90,
   "metadata": {},
   "outputs": [
    {
     "name": "stdout",
     "output_type": "stream",
     "text": [
      "[{'a': 97}, {'b': 98}, {'c': 99}, {'d': 100}, {'e': 101}, {'f': 102}, {'g': 103}, {'h': 104}, {'i': 105}, {'j': 106}, {'k': 107}, {'l': 108}, {'m': 109}, {'n': 110}, {'o': 111}, {'p': 112}, {'q': 113}, {'r': 114}, {'s': 115}, {'t': 116}, {'u': 117}, {'v': 118}, {'w': 119}, {'x': 120}, {'y': 121}, {'z': 122}]\n"
     ]
    }
   ],
   "source": [
    "ascii_lower(y)"
   ]
  },
  {
   "cell_type": "code",
   "execution_count": 91,
   "metadata": {},
   "outputs": [
    {
     "name": "stdout",
     "output_type": "stream",
     "text": [
      "[{'A': 65}, {'B': 66}, {'C': 67}, {'D': 68}, {'E': 69}, {'F': 70}, {'G': 71}, {'H': 72}, {'I': 73}, {'J': 74}, {'K': 75}, {'L': 76}, {'M': 77}, {'N': 78}, {'O': 79}, {'P': 80}, {'Q': 81}, {'R': 82}, {'S': 83}, {'T': 84}, {'U': 85}, {'V': 86}, {'W': 87}, {'X': 88}, {'Y': 89}, {'Z': 90}]\n"
     ]
    }
   ],
   "source": [
    "ascii_lower(x)"
   ]
  },
  {
   "cell_type": "code",
   "execution_count": 98,
   "metadata": {},
   "outputs": [
    {
     "data": {
      "text/plain": [
       "'22'"
      ]
     },
     "execution_count": 98,
     "metadata": {},
     "output_type": "execute_result"
    }
   ],
   "source": [
    "ascii(22)"
   ]
  },
  {
   "cell_type": "code",
   "execution_count": 111,
   "metadata": {},
   "outputs": [
    {
     "name": "stdout",
     "output_type": "stream",
     "text": [
      "{0: '\\x00'}\n",
      "{1: '\\x01'}\n",
      "{2: '\\x02'}\n",
      "{3: '\\x03'}\n",
      "{4: '\\x04'}\n",
      "{5: '\\x05'}\n",
      "{6: '\\x06'}\n",
      "{7: '\\x07'}\n",
      "{8: '\\x08'}\n",
      "{9: '\\t'}\n",
      "{10: '\\n'}\n",
      "{11: '\\x0b'}\n",
      "{12: '\\x0c'}\n",
      "{13: '\\r'}\n",
      "{14: '\\x0e'}\n",
      "{15: '\\x0f'}\n",
      "{16: '\\x10'}\n",
      "{17: '\\x11'}\n",
      "{18: '\\x12'}\n",
      "{19: '\\x13'}\n",
      "{20: '\\x14'}\n",
      "{21: '\\x15'}\n",
      "{22: '\\x16'}\n",
      "{23: '\\x17'}\n",
      "{24: '\\x18'}\n",
      "{25: '\\x19'}\n",
      "{26: '\\x1a'}\n",
      "{27: '\\x1b'}\n",
      "{28: '\\x1c'}\n",
      "{29: '\\x1d'}\n",
      "{30: '\\x1e'}\n",
      "{31: '\\x1f'}\n",
      "{32: ' '}\n",
      "{33: '!'}\n",
      "{34: '\"'}\n",
      "{35: '#'}\n",
      "{36: '$'}\n",
      "{37: '%'}\n",
      "{38: '&'}\n",
      "{39: \"'\"}\n",
      "{40: '('}\n",
      "{41: ')'}\n",
      "{42: '*'}\n",
      "{43: '+'}\n",
      "{44: ','}\n",
      "{45: '-'}\n",
      "{46: '.'}\n",
      "{47: '/'}\n",
      "{48: '0'}\n",
      "{49: '1'}\n",
      "{50: '2'}\n",
      "{51: '3'}\n",
      "{52: '4'}\n",
      "{53: '5'}\n",
      "{54: '6'}\n",
      "{55: '7'}\n",
      "{56: '8'}\n",
      "{57: '9'}\n",
      "{58: ':'}\n",
      "{59: ';'}\n",
      "{60: '<'}\n",
      "{61: '='}\n",
      "{62: '>'}\n",
      "{63: '?'}\n",
      "{64: '@'}\n",
      "{65: 'A'}\n",
      "{66: 'B'}\n",
      "{67: 'C'}\n",
      "{68: 'D'}\n",
      "{69: 'E'}\n",
      "{70: 'F'}\n",
      "{71: 'G'}\n",
      "{72: 'H'}\n",
      "{73: 'I'}\n",
      "{74: 'J'}\n",
      "{75: 'K'}\n",
      "{76: 'L'}\n",
      "{77: 'M'}\n",
      "{78: 'N'}\n",
      "{79: 'O'}\n",
      "{80: 'P'}\n",
      "{81: 'Q'}\n",
      "{82: 'R'}\n",
      "{83: 'S'}\n",
      "{84: 'T'}\n",
      "{85: 'U'}\n",
      "{86: 'V'}\n",
      "{87: 'W'}\n",
      "{88: 'X'}\n",
      "{89: 'Y'}\n",
      "{90: 'Z'}\n",
      "{91: '['}\n",
      "{92: '\\\\'}\n",
      "{93: ']'}\n",
      "{94: '^'}\n",
      "{95: '_'}\n",
      "{96: '`'}\n",
      "{97: 'a'}\n",
      "{98: 'b'}\n",
      "{99: 'c'}\n",
      "{100: 'd'}\n",
      "{101: 'e'}\n",
      "{102: 'f'}\n",
      "{103: 'g'}\n",
      "{104: 'h'}\n",
      "{105: 'i'}\n",
      "{106: 'j'}\n",
      "{107: 'k'}\n",
      "{108: 'l'}\n",
      "{109: 'm'}\n",
      "{110: 'n'}\n",
      "{111: 'o'}\n",
      "{112: 'p'}\n",
      "{113: 'q'}\n",
      "{114: 'r'}\n",
      "{115: 's'}\n",
      "{116: 't'}\n",
      "{117: 'u'}\n",
      "{118: 'v'}\n",
      "{119: 'w'}\n",
      "{120: 'x'}\n",
      "{121: 'y'}\n",
      "{122: 'z'}\n"
     ]
    }
   ],
   "source": [
    "l = []\n",
    "for i in range(123):\n",
    "    a = chr(i)\n",
    "    d = {i:a}\n",
    "    print(d)"
   ]
  },
  {
   "cell_type": "code",
   "execution_count": 109,
   "metadata": {},
   "outputs": [
    {
     "data": {
      "text/plain": [
       "'9940'"
      ]
     },
     "execution_count": 109,
     "metadata": {},
     "output_type": "execute_result"
    }
   ],
   "source": [
    "ascii(9940)"
   ]
  }
 ],
 "metadata": {
  "kernelspec": {
   "display_name": "Python 3",
   "language": "python",
   "name": "python3"
  },
  "language_info": {
   "codemirror_mode": {
    "name": "ipython",
    "version": 3
   },
   "file_extension": ".py",
   "mimetype": "text/x-python",
   "name": "python",
   "nbconvert_exporter": "python",
   "pygments_lexer": "ipython3",
   "version": "3.8.5"
  }
 },
 "nbformat": 4,
 "nbformat_minor": 4
}
